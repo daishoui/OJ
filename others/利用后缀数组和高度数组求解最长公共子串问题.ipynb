{
 "cells": [
  {
   "cell_type": "code",
   "execution_count": 6,
   "metadata": {},
   "outputs": [
    {
     "name": "stdout",
     "output_type": "stream",
     "text": [
      "[6, 3, 0, 4, 1, 5, 2]\n"
     ]
    }
   ],
   "source": [
    "from functools import cmp_to_key\n",
    "import numpy as np\n",
    "\n",
    "def construct_sa(S):\n",
    "    n = len(S)\n",
    "    \n",
    "    sa = np.zeros(n+1,dtype=int)\n",
    "    sa[-1] = n\n",
    "    rank = np.zeros(n+1,dtype=int)\n",
    "    rank[-1] = -1\n",
    "    #初始长度为1，rank 直接取字符串的编码\n",
    "    for i in range(0,n):\n",
    "        rank[i] = ord(S[i])\n",
    "        sa[i] = i\n",
    "    \n",
    "    def cmpBaseRank(n,rank,k,i,j):\n",
    "        if rank[i] != rank[j]:\n",
    "            return 1 if rank[i] > rank[j] else -1\n",
    "        else:\n",
    "            ri = rank[i+k] if (i+k<=n) else -1\n",
    "            rj = rank[j+k] if (j+k<=n) else -1\n",
    "            return 1 if ri > rj else -1\n",
    "        \n",
    "    k = 1\n",
    "    tmp = np.zeros(n+1,dtype=int)\n",
    "    while k <= n:\n",
    "        sa = sorted(sa, key=cmp_to_key(lambda i,j:cmpBaseRank(n, rank, k,i,j)))\n",
    "        #由长度 k 的 rank 计算长度 2*k 的 rank\n",
    "        tmp[sa[0]] = 0\n",
    "        for i in range(1,n+1):\n",
    "            tmp[sa[i]] = tmp[sa[i-1]] + (1 if (cmpBaseRank(n,rank,k,sa[i-1],sa[i]) == -1) else 0)\n",
    "        rank = np.tile(tmp,1)\n",
    "        k = k * 2\n",
    "\n",
    "    return sa\n",
    "\n",
    "print(construct_sa(\"abcabc\"))"
   ]
  },
  {
   "cell_type": "code",
   "execution_count": 12,
   "metadata": {},
   "outputs": [],
   "source": [
    "def construct_lcp(S, sa):\n",
    "    n = len(S)\n",
    "    rank = np.zeros(n+1, dtype=int)\n",
    "    for i in range(0,n+1):\n",
    "        rank[sa[i]] = i\n",
    "    \n",
    "    h = 0\n",
    "    lcp = np.zeros(n,dtype=int)\n",
    "    for i in range(0,n):\n",
    "        j = sa[rank[i]-1]\n",
    "        \n",
    "        if h>0:\n",
    "            h -= 1\n",
    "        while j + h < n and i + h < n:\n",
    "            if S[j+h] != S[i+h]:\n",
    "                break\n",
    "            h += 1\n",
    "        lcp[rank[i] - 1] = h\n",
    "    return lcp"
   ]
  },
  {
   "cell_type": "code",
   "execution_count": 14,
   "metadata": {},
   "outputs": [
    {
     "name": "stdout",
     "output_type": "stream",
     "text": [
      "[0 1 4 1 1 0 3 0 0 0 2]\n"
     ]
    }
   ],
   "source": [
    "S = \"abracadabra\"\n",
    "sa = construct_sa(S)\n",
    "lcp = construct_lcp(S, sa)\n",
    "print(lcp)"
   ]
  },
  {
   "cell_type": "code",
   "execution_count": 42,
   "metadata": {},
   "outputs": [],
   "source": [
    "def getCommanString(S,T):\n",
    "    ST = S + '\\0' + T\n",
    "    \n",
    "    sa = construct_sa(ST)\n",
    "    lcp = construct_lcp(ST, sa)\n",
    "    \n",
    "    ans = 0\n",
    "    pos = len(ST)\n",
    "    n1 = len(S)\n",
    "    for i in range(0,pos):\n",
    "        if (sa[i] < n1) != (sa[i+1] < n1):\n",
    "            if lcp[i] > ans:\n",
    "                ans = lcp[i]\n",
    "                pos = sa[i]\n",
    "    #print(pos,ans)\n",
    "    return ST[pos:pos+ans]"
   ]
  },
  {
   "cell_type": "code",
   "execution_count": 50,
   "metadata": {},
   "outputs": [
    {
     "name": "stdout",
     "output_type": "stream",
     "text": [
      "abcd True\n",
      "BDAD True\n",
      "BD True\n",
      " True\n",
      " True\n",
      " True\n",
      "AB True\n"
     ]
    }
   ],
   "source": [
    "def test():\n",
    "    S = \"abcdAB\"\n",
    "    T = \"abcdDD\"\n",
    "    print(getCommanString(S,T), getCommanString(S,T) == \"abcd\")\n",
    "    \n",
    "    S = \"KLabcBDAD\"\n",
    "    T = \"abcdBDAD\"\n",
    "    print(getCommanString(S,T), getCommanString(S,T) == \"BDAD\")\n",
    "    \n",
    "    S = \"BDeios\"\n",
    "    T = \"abcdBDAD\"\n",
    "    print(getCommanString(S,T), getCommanString(S,T) == \"BD\")\n",
    "    \n",
    "    S = \"\"\n",
    "    T = \"\"\n",
    "    print(getCommanString(S,T), getCommanString(S,T) == \"\")\n",
    "    \n",
    "    S = \"ABDD\"\n",
    "    T = \"\"\n",
    "    print(getCommanString(S,T), getCommanString(S,T) == \"\")\n",
    "    \n",
    "    S = \"\"\n",
    "    T = \"AB\"\n",
    "    print(getCommanString(S,T), getCommanString(S,T) == \"\")\n",
    "    \n",
    "    S = \"AB\"\n",
    "    T = \"AB\"\n",
    "    print(getCommanString(S,T), getCommanString(S,T) == \"AB\")\n",
    "    \n",
    "test()"
   ]
  },
  {
   "cell_type": "code",
   "execution_count": null,
   "metadata": {},
   "outputs": [],
   "source": []
  }
 ],
 "metadata": {
  "kernelspec": {
   "display_name": "Python 3",
   "language": "python",
   "name": "python3"
  },
  "language_info": {
   "codemirror_mode": {
    "name": "ipython",
    "version": 3
   },
   "file_extension": ".py",
   "mimetype": "text/x-python",
   "name": "python",
   "nbconvert_exporter": "python",
   "pygments_lexer": "ipython3",
   "version": "3.7.6"
  }
 },
 "nbformat": 4,
 "nbformat_minor": 4
}
